{
  "nbformat": 4,
  "nbformat_minor": 0,
  "metadata": {
    "colab": {
      "provenance": []
    },
    "kernelspec": {
      "name": "python3",
      "display_name": "Python 3"
    },
    "language_info": {
      "name": "python"
    }
  },
  "cells": [
    {
      "cell_type": "code",
      "source": [
        "!apt-get install openjdk-8-jdk-headless -qq > /dev/null"
      ],
      "metadata": {
        "id": "T2kQTQTntJRD"
      },
      "execution_count": 2,
      "outputs": []
    },
    {
      "cell_type": "code",
      "source": [
        "!wget -q https://dlcdn.apache.org/spark/spark-3.4.1/spark-3.4.1-bin-hadoop3.tgz\n"
      ],
      "metadata": {
        "id": "g6c1GrETtPef"
      },
      "execution_count": 3,
      "outputs": []
    },
    {
      "cell_type": "markdown",
      "source": [],
      "metadata": {
        "id": "j2UVsiqSw25q"
      }
    },
    {
      "cell_type": "code",
      "source": [
        "!tar xf spark-3.4.1-bin-hadoop3.tgz"
      ],
      "metadata": {
        "id": "moThtL9UtWL1"
      },
      "execution_count": 4,
      "outputs": []
    },
    {
      "cell_type": "code",
      "source": [
        "!pip install -q findspark"
      ],
      "metadata": {
        "id": "drTlrSV3w46i"
      },
      "execution_count": 5,
      "outputs": []
    },
    {
      "cell_type": "code",
      "source": [
        "import os\n",
        "os.environ[\"JAVA_HOME\"] = \"/usr/lib/jvm/java-8-openjdk-amd64\"\n",
        "os.environ[\"SPARK_HOME\"] = \"/content/spark-3.4.1-bin-hadoop3\""
      ],
      "metadata": {
        "id": "i5AVDdiwxhKj"
      },
      "execution_count": 6,
      "outputs": []
    },
    {
      "cell_type": "code",
      "source": [
        "import findspark\n",
        "findspark.init()"
      ],
      "metadata": {
        "id": "GVmZXAo7x3d8"
      },
      "execution_count": 7,
      "outputs": []
    },
    {
      "cell_type": "code",
      "source": [
        "findspark.find()"
      ],
      "metadata": {
        "colab": {
          "base_uri": "https://localhost:8080/",
          "height": 35
        },
        "id": "xDqmHRPnx52f",
        "outputId": "e159d815-2e36-49e6-f60c-3ef8650373d9"
      },
      "execution_count": 8,
      "outputs": [
        {
          "output_type": "execute_result",
          "data": {
            "text/plain": [
              "'/content/spark-3.4.1-bin-hadoop3'"
            ],
            "application/vnd.google.colaboratory.intrinsic+json": {
              "type": "string"
            }
          },
          "metadata": {},
          "execution_count": 8
        }
      ]
    },
    {
      "cell_type": "code",
      "source": [
        "from google.colab import files\n",
        "uploaded = files.upload()"
      ],
      "metadata": {
        "colab": {
          "base_uri": "https://localhost:8080/",
          "height": 73
        },
        "id": "Y2QyyMLW1XCB",
        "outputId": "4c939b7d-2ed5-4d1d-d6d8-2423e4255122"
      },
      "execution_count": 9,
      "outputs": [
        {
          "output_type": "display_data",
          "data": {
            "text/plain": [
              "<IPython.core.display.HTML object>"
            ],
            "text/html": [
              "\n",
              "     <input type=\"file\" id=\"files-adf09a70-5582-4265-b452-e9eac219487e\" name=\"files[]\" multiple disabled\n",
              "        style=\"border:none\" />\n",
              "     <output id=\"result-adf09a70-5582-4265-b452-e9eac219487e\">\n",
              "      Upload widget is only available when the cell has been executed in the\n",
              "      current browser session. Please rerun this cell to enable.\n",
              "      </output>\n",
              "      <script>// Copyright 2017 Google LLC\n",
              "//\n",
              "// Licensed under the Apache License, Version 2.0 (the \"License\");\n",
              "// you may not use this file except in compliance with the License.\n",
              "// You may obtain a copy of the License at\n",
              "//\n",
              "//      http://www.apache.org/licenses/LICENSE-2.0\n",
              "//\n",
              "// Unless required by applicable law or agreed to in writing, software\n",
              "// distributed under the License is distributed on an \"AS IS\" BASIS,\n",
              "// WITHOUT WARRANTIES OR CONDITIONS OF ANY KIND, either express or implied.\n",
              "// See the License for the specific language governing permissions and\n",
              "// limitations under the License.\n",
              "\n",
              "/**\n",
              " * @fileoverview Helpers for google.colab Python module.\n",
              " */\n",
              "(function(scope) {\n",
              "function span(text, styleAttributes = {}) {\n",
              "  const element = document.createElement('span');\n",
              "  element.textContent = text;\n",
              "  for (const key of Object.keys(styleAttributes)) {\n",
              "    element.style[key] = styleAttributes[key];\n",
              "  }\n",
              "  return element;\n",
              "}\n",
              "\n",
              "// Max number of bytes which will be uploaded at a time.\n",
              "const MAX_PAYLOAD_SIZE = 100 * 1024;\n",
              "\n",
              "function _uploadFiles(inputId, outputId) {\n",
              "  const steps = uploadFilesStep(inputId, outputId);\n",
              "  const outputElement = document.getElementById(outputId);\n",
              "  // Cache steps on the outputElement to make it available for the next call\n",
              "  // to uploadFilesContinue from Python.\n",
              "  outputElement.steps = steps;\n",
              "\n",
              "  return _uploadFilesContinue(outputId);\n",
              "}\n",
              "\n",
              "// This is roughly an async generator (not supported in the browser yet),\n",
              "// where there are multiple asynchronous steps and the Python side is going\n",
              "// to poll for completion of each step.\n",
              "// This uses a Promise to block the python side on completion of each step,\n",
              "// then passes the result of the previous step as the input to the next step.\n",
              "function _uploadFilesContinue(outputId) {\n",
              "  const outputElement = document.getElementById(outputId);\n",
              "  const steps = outputElement.steps;\n",
              "\n",
              "  const next = steps.next(outputElement.lastPromiseValue);\n",
              "  return Promise.resolve(next.value.promise).then((value) => {\n",
              "    // Cache the last promise value to make it available to the next\n",
              "    // step of the generator.\n",
              "    outputElement.lastPromiseValue = value;\n",
              "    return next.value.response;\n",
              "  });\n",
              "}\n",
              "\n",
              "/**\n",
              " * Generator function which is called between each async step of the upload\n",
              " * process.\n",
              " * @param {string} inputId Element ID of the input file picker element.\n",
              " * @param {string} outputId Element ID of the output display.\n",
              " * @return {!Iterable<!Object>} Iterable of next steps.\n",
              " */\n",
              "function* uploadFilesStep(inputId, outputId) {\n",
              "  const inputElement = document.getElementById(inputId);\n",
              "  inputElement.disabled = false;\n",
              "\n",
              "  const outputElement = document.getElementById(outputId);\n",
              "  outputElement.innerHTML = '';\n",
              "\n",
              "  const pickedPromise = new Promise((resolve) => {\n",
              "    inputElement.addEventListener('change', (e) => {\n",
              "      resolve(e.target.files);\n",
              "    });\n",
              "  });\n",
              "\n",
              "  const cancel = document.createElement('button');\n",
              "  inputElement.parentElement.appendChild(cancel);\n",
              "  cancel.textContent = 'Cancel upload';\n",
              "  const cancelPromise = new Promise((resolve) => {\n",
              "    cancel.onclick = () => {\n",
              "      resolve(null);\n",
              "    };\n",
              "  });\n",
              "\n",
              "  // Wait for the user to pick the files.\n",
              "  const files = yield {\n",
              "    promise: Promise.race([pickedPromise, cancelPromise]),\n",
              "    response: {\n",
              "      action: 'starting',\n",
              "    }\n",
              "  };\n",
              "\n",
              "  cancel.remove();\n",
              "\n",
              "  // Disable the input element since further picks are not allowed.\n",
              "  inputElement.disabled = true;\n",
              "\n",
              "  if (!files) {\n",
              "    return {\n",
              "      response: {\n",
              "        action: 'complete',\n",
              "      }\n",
              "    };\n",
              "  }\n",
              "\n",
              "  for (const file of files) {\n",
              "    const li = document.createElement('li');\n",
              "    li.append(span(file.name, {fontWeight: 'bold'}));\n",
              "    li.append(span(\n",
              "        `(${file.type || 'n/a'}) - ${file.size} bytes, ` +\n",
              "        `last modified: ${\n",
              "            file.lastModifiedDate ? file.lastModifiedDate.toLocaleDateString() :\n",
              "                                    'n/a'} - `));\n",
              "    const percent = span('0% done');\n",
              "    li.appendChild(percent);\n",
              "\n",
              "    outputElement.appendChild(li);\n",
              "\n",
              "    const fileDataPromise = new Promise((resolve) => {\n",
              "      const reader = new FileReader();\n",
              "      reader.onload = (e) => {\n",
              "        resolve(e.target.result);\n",
              "      };\n",
              "      reader.readAsArrayBuffer(file);\n",
              "    });\n",
              "    // Wait for the data to be ready.\n",
              "    let fileData = yield {\n",
              "      promise: fileDataPromise,\n",
              "      response: {\n",
              "        action: 'continue',\n",
              "      }\n",
              "    };\n",
              "\n",
              "    // Use a chunked sending to avoid message size limits. See b/62115660.\n",
              "    let position = 0;\n",
              "    do {\n",
              "      const length = Math.min(fileData.byteLength - position, MAX_PAYLOAD_SIZE);\n",
              "      const chunk = new Uint8Array(fileData, position, length);\n",
              "      position += length;\n",
              "\n",
              "      const base64 = btoa(String.fromCharCode.apply(null, chunk));\n",
              "      yield {\n",
              "        response: {\n",
              "          action: 'append',\n",
              "          file: file.name,\n",
              "          data: base64,\n",
              "        },\n",
              "      };\n",
              "\n",
              "      let percentDone = fileData.byteLength === 0 ?\n",
              "          100 :\n",
              "          Math.round((position / fileData.byteLength) * 100);\n",
              "      percent.textContent = `${percentDone}% done`;\n",
              "\n",
              "    } while (position < fileData.byteLength);\n",
              "  }\n",
              "\n",
              "  // All done.\n",
              "  yield {\n",
              "    response: {\n",
              "      action: 'complete',\n",
              "    }\n",
              "  };\n",
              "}\n",
              "\n",
              "scope.google = scope.google || {};\n",
              "scope.google.colab = scope.google.colab || {};\n",
              "scope.google.colab._files = {\n",
              "  _uploadFiles,\n",
              "  _uploadFilesContinue,\n",
              "};\n",
              "})(self);\n",
              "</script> "
            ]
          },
          "metadata": {}
        },
        {
          "output_type": "stream",
          "name": "stdout",
          "text": [
            "Saving aprileq.csv to aprileq.csv\n"
          ]
        }
      ]
    },
    {
      "cell_type": "code",
      "source": [
        "!pwd /content\n"
      ],
      "metadata": {
        "colab": {
          "base_uri": "https://localhost:8080/"
        },
        "id": "9NFFYdYc2Loy",
        "outputId": "35a6e87a-53b8-48e4-e539-86a8b53bdaec"
      },
      "execution_count": 10,
      "outputs": [
        {
          "output_type": "stream",
          "name": "stdout",
          "text": [
            "/content\n"
          ]
        }
      ]
    },
    {
      "cell_type": "code",
      "source": [
        "!ls /content"
      ],
      "metadata": {
        "colab": {
          "base_uri": "https://localhost:8080/"
        },
        "id": "E3e17zJb2Pzl",
        "outputId": "7656d6d2-f500-4062-f041-24d4442c04b9"
      },
      "execution_count": 34,
      "outputs": [
        {
          "output_type": "stream",
          "name": "stdout",
          "text": [
            "aprileq.csv  share.csv\t\t      spark-3.4.1-bin-hadoop3.tgz\n",
            "sample_data  spark-3.4.1-bin-hadoop3\n"
          ]
        }
      ]
    },
    {
      "cell_type": "code",
      "source": [
        "\n",
        "# Import necessary libraries\n",
        "from pyspark.sql import SparkSession\n",
        "\n",
        "# Initialize a Spark session\n",
        "spark = SparkSession.builder.appName(\"LocalFileRead\").getOrCreate()\n",
        "\n",
        "# Load a DataFrame from a local folder (replace '/path/to/your/data' with the actual path)\n",
        "file_path = \"/content/aprileq.csv\"\n",
        "df = spark.read.csv(file_path, header=False, inferSchema=True)\n",
        "\n",
        "# Show the DataFrame content\n",
        "\n",
        "df = df.withColumnRenamed(\"_c0\",\"Company\").withColumnRenamed(\"_c1\",\"Series\").withColumnRenamed(\"_c2\",\"open\").withColumnRenamed(\"_c3\",\"high\").withColumnRenamed(\"_c4\",\"low\").withColumnRenamed(\"_c5\",\"close\").withColumnRenamed(\"_c10\",\"Date\")\n",
        "df = df.drop(\"_c6\").drop(\"_c7\").drop(\"_c8\").drop(\"_c9\").drop(\"_c11\").drop(\"_c12\").drop(\"_c13\")\n",
        "df.show(30)\n",
        "df.createOrReplaceTempView(\"df\")\n",
        "df1 = spark.sql(\"select *  from df where Series = 'EQ'  and Company = '5PAISA' order by Date ASC  \")\n",
        "\n",
        "df1.show()\n",
        "path = \"/content/share.csv\"\n",
        "df.write.csv(path,header=True,mode=\"overwrite\")\n",
        "\n",
        "# Stop the Spark session (recommended when done)\n",
        "spark.stop()"
      ],
      "metadata": {
        "colab": {
          "base_uri": "https://localhost:8080/"
        },
        "id": "WcVr78AGzOQA",
        "outputId": "2fb03156-7876-4382-e325-685636500d12"
      },
      "execution_count": 33,
      "outputs": [
        {
          "output_type": "stream",
          "name": "stdout",
          "text": [
            "+----------+------+-------+-------+--------+-------+-----------+\n",
            "|   Company|Series|   open|   high|     low|  close|       Date|\n",
            "+----------+------+-------+-------+--------+-------+-----------+\n",
            "| 20MICRONS|    EQ|  67.15|   71.1|   67.05|  70.05|01-MAR-2023|\n",
            "|21STCENMGM|    EQ|   17.5|   17.5|    17.0|   17.0|01-MAR-2023|\n",
            "|    360ONE|    EQ|1730.45| 1779.0| 1700.05| 1773.3|01-MAR-2023|\n",
            "| 3IINFOLTD|    EQ|   32.0|   34.0|    32.0|   33.3|01-MAR-2023|\n",
            "|   3MINDIA|    EQ|22750.0|22888.7|22403.55|22655.9|01-MAR-2023|\n",
            "|    3PLAND|    EQ|   23.4|  23.85|    21.8|   21.9|01-MAR-2023|\n",
            "|    5PAISA|    EQ|  277.0|  278.9|  272.05| 277.35|01-MAR-2023|\n",
            "|   63MOONS|    EQ|  204.0|  206.4|  199.25| 201.65|01-MAR-2023|\n",
            "|  A2ZINFRA|    EQ|    7.2|    7.6|    6.95|    7.2|01-MAR-2023|\n",
            "|   AAATECH|    EQ|  56.95|   59.4|    55.5|   56.4|01-MAR-2023|\n",
            "|    AAKASH|    EQ|    7.2|   7.25|     6.9|    6.9|01-MAR-2023|\n",
            "|AAREYDRUGS|    EQ|   28.1|   28.6|    28.1|   28.5|01-MAR-2023|\n",
            "|     AARON|    EQ| 186.25|  195.9|  186.25| 192.55|01-MAR-2023|\n",
            "|AARTIDRUGS|    EQ|  367.0|  369.5|  365.05|  366.3|01-MAR-2023|\n",
            "|  AARTIIND|    EQ| 529.15|  540.0|  528.15| 538.15|01-MAR-2023|\n",
            "|AARTIPHARM|    EQ|  300.0|  309.0|   298.0|  299.9|01-MAR-2023|\n",
            "| AARTISURF|    EQ|  515.0| 524.85|   512.5| 519.95|01-MAR-2023|\n",
            "| AARVEEDEN|    EQ|   20.6|   22.1|   20.15|  20.65|01-MAR-2023|\n",
            "|     AARVI|    EQ| 111.45| 114.25|  110.05| 112.35|01-MAR-2023|\n",
            "|     AAVAS|    EQ| 1841.0| 1908.5|  1830.0|1851.95|01-MAR-2023|\n",
            "|      ABAN|    EQ|   39.8|   42.0|   39.35|  40.65|01-MAR-2023|\n",
            "|       ABB|    EQ| 3232.0| 3319.7|  3206.7|3311.45|01-MAR-2023|\n",
            "|ABBOTINDIA|    EQ|20216.0|20666.0| 20160.0|20460.6|01-MAR-2023|\n",
            "| ABCAPITAL|    EQ| 145.85|  152.5|  145.35|  152.0|01-MAR-2023|\n",
            "|     ABFRL|    EQ| 230.85|  235.9|   229.7|  235.4|01-MAR-2023|\n",
            "|ABMINTLLTD|    EQ|   33.1|   36.0|    33.0|   33.0|01-MAR-2023|\n",
            "|   ABSLAMC|    EQ|  381.1|  382.5|  379.55| 380.05|01-MAR-2023|\n",
            "|ABSLBANETF|    EQ|   41.6|   41.6|   40.13|  40.81|01-MAR-2023|\n",
            "|ABSLNN50ET|    EQ|   37.9|  38.96|    37.9|   38.5|01-MAR-2023|\n",
            "|       ACC|    EQ| 1739.7|1776.05| 1735.65|1769.45|01-MAR-2023|\n",
            "+----------+------+-------+-------+--------+-------+-----------+\n",
            "only showing top 30 rows\n",
            "\n",
            "+-------+------+------+------+------+------+-----------+\n",
            "|Company|Series|  open|  high|   low| close|       Date|\n",
            "+-------+------+------+------+------+------+-----------+\n",
            "| 5PAISA|    EQ| 277.0| 278.9|272.05|277.35|01-MAR-2023|\n",
            "| 5PAISA|    EQ| 285.0| 285.0| 270.1| 272.8|02-MAR-2023|\n",
            "| 5PAISA|    EQ| 285.0|288.95| 280.4|285.05|03-APR-2023|\n",
            "| 5PAISA|    EQ|275.85| 283.0|272.05| 278.4|03-MAR-2023|\n",
            "| 5PAISA|    EQ| 285.5| 289.0|283.55|286.65|05-APR-2023|\n",
            "| 5PAISA|    EQ| 288.5|290.65| 286.1|289.65|06-APR-2023|\n",
            "| 5PAISA|    EQ| 314.6|327.55| 296.0| 298.7|06-MAR-2023|\n",
            "| 5PAISA|    EQ|303.15| 304.8|289.05|297.15|08-MAR-2023|\n",
            "| 5PAISA|    EQ| 300.1|301.55| 296.0| 297.8|09-MAR-2023|\n",
            "| 5PAISA|    EQ| 294.0| 294.0| 285.0|286.95|10-APR-2023|\n",
            "| 5PAISA|    EQ| 301.0| 303.0|294.15|299.85|10-MAR-2023|\n",
            "| 5PAISA|    EQ| 286.5|301.65| 286.5|293.85|11-APR-2023|\n",
            "| 5PAISA|    EQ| 297.0| 297.6|294.05|295.45|12-APR-2023|\n",
            "| 5PAISA|    EQ| 298.0| 298.0| 292.0|294.15|13-APR-2023|\n",
            "| 5PAISA|    EQ| 300.0| 303.3|279.95| 285.0|13-MAR-2023|\n",
            "| 5PAISA|    EQ|284.25| 290.9| 279.8| 282.4|14-MAR-2023|\n",
            "| 5PAISA|    EQ| 283.0| 290.9| 283.0|285.75|15-MAR-2023|\n",
            "| 5PAISA|    EQ|285.75| 290.0|280.45|286.75|16-MAR-2023|\n",
            "| 5PAISA|    EQ|291.05| 299.0| 288.0| 291.5|17-MAR-2023|\n",
            "| 5PAISA|    EQ|291.55|294.95| 280.0| 283.6|20-MAR-2023|\n",
            "+-------+------+------+------+------+------+-----------+\n",
            "only showing top 20 rows\n",
            "\n"
          ]
        }
      ]
    },
    {
      "cell_type": "code",
      "source": [
        "from google.colab import files\n",
        "path = \"/content/share.csv\"\n",
        "files.dowload(path)"
      ],
      "metadata": {
        "colab": {
          "base_uri": "https://localhost:8080/",
          "height": 34
        },
        "id": "Igy0aFNn0ic3",
        "outputId": "8446edeb-66ea-42b6-d420-47e6fbaf42cb"
      },
      "execution_count": 39,
      "outputs": [
        {
          "output_type": "display_data",
          "data": {
            "text/plain": [
              "<IPython.core.display.Javascript object>"
            ],
            "application/javascript": [
              "\n",
              "    async function download(id, filename, size) {\n",
              "      if (!google.colab.kernel.accessAllowed) {\n",
              "        return;\n",
              "      }\n",
              "      const div = document.createElement('div');\n",
              "      const label = document.createElement('label');\n",
              "      label.textContent = `Downloading \"${filename}\": `;\n",
              "      div.appendChild(label);\n",
              "      const progress = document.createElement('progress');\n",
              "      progress.max = size;\n",
              "      div.appendChild(progress);\n",
              "      document.body.appendChild(div);\n",
              "\n",
              "      const buffers = [];\n",
              "      let downloaded = 0;\n",
              "\n",
              "      const channel = await google.colab.kernel.comms.open(id);\n",
              "      // Send a message to notify the kernel that we're ready.\n",
              "      channel.send({})\n",
              "\n",
              "      for await (const message of channel.messages) {\n",
              "        // Send a message to notify the kernel that we're ready.\n",
              "        channel.send({})\n",
              "        if (message.buffers) {\n",
              "          for (const buffer of message.buffers) {\n",
              "            buffers.push(buffer);\n",
              "            downloaded += buffer.byteLength;\n",
              "            progress.value = downloaded;\n",
              "          }\n",
              "        }\n",
              "      }\n",
              "      const blob = new Blob(buffers, {type: 'application/binary'});\n",
              "      const a = document.createElement('a');\n",
              "      a.href = window.URL.createObjectURL(blob);\n",
              "      a.download = filename;\n",
              "      div.appendChild(a);\n",
              "      a.click();\n",
              "      div.remove();\n",
              "    }\n",
              "  "
            ]
          },
          "metadata": {}
        },
        {
          "output_type": "display_data",
          "data": {
            "text/plain": [
              "<IPython.core.display.Javascript object>"
            ],
            "application/javascript": [
              "download(\"download_afc21f2d-d6ca-40a9-8450-181206ec4b76\", \"share.csv\", 4096)"
            ]
          },
          "metadata": {}
        }
      ]
    }
  ]
}